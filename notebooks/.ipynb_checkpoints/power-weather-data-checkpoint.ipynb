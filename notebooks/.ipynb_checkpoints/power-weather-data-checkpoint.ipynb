{
 "cells": [
  {
   "cell_type": "markdown",
   "id": "389a28bd",
   "metadata": {},
   "source": [
    "[dataset](https://data.mendeley.com/datasets/skxgmkc64k)\n",
    "[weather and power data](https://github.com/danilopsv?tab=overview&from=2023-03-01&to=2023-03-02)"
   ]
  }
 ],
 "metadata": {
  "kernelspec": {
   "display_name": "Python 3",
   "language": "python",
   "name": "python3"
  },
  "language_info": {
   "codemirror_mode": {
    "name": "ipython",
    "version": 3
   },
   "file_extension": ".py",
   "mimetype": "text/x-python",
   "name": "python",
   "nbconvert_exporter": "python",
   "pygments_lexer": "ipython3",
   "version": "3.9.4"
  }
 },
 "nbformat": 4,
 "nbformat_minor": 5
}
